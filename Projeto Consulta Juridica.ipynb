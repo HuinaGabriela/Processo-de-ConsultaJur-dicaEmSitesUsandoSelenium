{
 "cells": [
  {
   "cell_type": "code",
   "execution_count": 1,
   "id": "a5bbebcb",
   "metadata": {},
   "outputs": [],
   "source": [
    "# criar o navegador\n",
    "from selenium import webdriver # permite cria meu navegador\n",
    "from selenium.webdriver.chrome.service import Service # identificar a versao do chrome e fazem o download automaticamnte\n",
    "from webdriver_manager.chrome import ChromeDriverManager \n",
    "from selenium.webdriver.common.by import By # utilizado no find_element para procurar algo na tela com um elemento especifico\n",
    "\n",
    "servico = Service(ChromeDriverManager().install()) # crio o serviço que vai identificar a minha versao do chrome e fazer o download do chromedrive\n",
    "navegador = webdriver.Chrome(service=servico) # passo o serviço para o webdrive.chrome pra ele cria enfim o meu navegador"
   ]
  },
  {
   "cell_type": "code",
   "execution_count": 2,
   "id": "b1863ba7",
   "metadata": {},
   "outputs": [],
   "source": [
    "# abrir a página index (entrar no site da busca jurídica)\n",
    "import os\n",
    "\n",
    "caminho = os.getcwd()\n",
    "#print(caminho)\n",
    "arquivo = caminho + r\"\\index.html\"\n",
    "navegador.get(arquivo)\n"
   ]
  },
  {
   "cell_type": "code",
   "execution_count": 4,
   "id": "8c306a04",
   "metadata": {},
   "outputs": [],
   "source": [
    "from selenium.webdriver import ActionChains\n",
    "\n",
    "botao = navegador.find_element(By.CLASS_NAME, 'dropdown-menu')\n",
    "ActionChains(navegador).move_to_element(botao).perform() # o elemento que quero colocar o mause em cima\n",
    "\n",
    "\n",
    "navegador.find_element(By.XPATH, '/html/body/div/div/div/a[2]').click()"
   ]
  },
  {
   "cell_type": "code",
   "execution_count": 6,
   "id": "ed6e55a0",
   "metadata": {},
   "outputs": [
    {
     "name": "stdout",
     "output_type": "stream",
     "text": [
      "Processo encontrado!\n"
     ]
    }
   ],
   "source": [
    "aba_original = navegador.window_handles[0]\n",
    "nova_aba = navegador.window_handles[1]\n",
    "\n",
    "navegador.switch_to.window(nova_aba)\n",
    "\n",
    "# preencher o formulario com dados de busca\n",
    "navegador.find_element(By.ID, 'nome').send_keys(\"huina\")\n",
    "navegador.find_element(By.ID, 'advogado').send_keys(\"gabriela\")\n",
    "navegador.find_element(By.ID, 'numero').send_keys(\"745\")\n",
    "\n",
    "# clicar em pesquisar\n",
    "navegador.find_element(By.CLASS_NAME, 'registerbtn').click()\n",
    "\n",
    "# confirmar pesquisa\n",
    "alerta = navegador.switch_to.alert\n",
    "alerta.accept()\n",
    "\n",
    "# esperar o resultado da pesquisa e agir de acordo com o resultado\n",
    "import time\n",
    "\n",
    "while True:\n",
    "    try:\n",
    "        alerta = navegador.switch_to.alert\n",
    "        break\n",
    "    except:\n",
    "        time.sleep(1)\n",
    "# quando sai do loop é pq foi encontrado um alerta( encontrou registro de processo ou nao)\n",
    "\n",
    "texto_alerta = alerta.text\n",
    "\n",
    "if \"Processo encontrado com sucesso\" in texto_alerta:\n",
    "    alerta.accept()\n",
    "    print(\"Processo encontrado!\")\n",
    "else:\n",
    "    print(\"Processo não encontrado\")"
   ]
  },
  {
   "cell_type": "markdown",
   "id": "d9e98ee7",
   "metadata": {},
   "source": [
    "Fim do primeiro teste para uma unico usuario"
   ]
  },
  {
   "cell_type": "code",
   "execution_count": null,
   "id": "08a27004",
   "metadata": {},
   "outputs": [],
   "source": [
    "# importar a base de dados\n",
    "import pandas as pd\n",
    "\n",
    "tabela = pd.read_excel(\"Processos.xlsx\")\n",
    "display(tabela)"
   ]
  },
  {
   "cell_type": "code",
   "execution_count": null,
   "id": "b2265129",
   "metadata": {},
   "outputs": [],
   "source": [
    "from selenium.webdriver import ActionChains\n",
    "import time\n",
    "\n",
    "for linha in tabela.index:\n",
    "\n",
    "    # para cada processo (linha da tabela)\n",
    "    navegador.get(arquivo)\n",
    "\n",
    "    # abrir a lista de cidades\n",
    "    botao = navegador.find_element(By.CLASS_NAME, 'dropdown-menu')\n",
    "    ActionChains(navegador).move_to_element(botao).perform()\n",
    "    \n",
    "    cidade = tabela.loc[linha, \"Cidade\"]\n",
    "    \n",
    "    # selecionando o cidade\n",
    "    navegador.find_element(By.PARTIAL_LINK_TEXT, cidade).click()\n",
    "    \n",
    "    # mudar para a nova aba\n",
    "    aba_original = navegador.window_handles[0]\n",
    "    indice = 1 + linha\n",
    "    nova_aba = navegador.window_handles[indice]\n",
    "    \n",
    "    navegador.switch_to.window(nova_aba)\n",
    "    \n",
    "    # preencher o formulário com os dados de busca\n",
    "    navegador.find_element(By.ID, 'nome').send_keys(tabela.loc[linha, \"Nome\"])\n",
    "    navegador.find_element(By.ID, 'advogado').send_keys(tabela.loc[linha, \"Advogado\"])\n",
    "    navegador.find_element(By.ID, 'numero').send_keys(tabela.loc[linha, \"Processo\"])\n",
    "\n",
    "    # clicar em pesquisar\n",
    "    navegador.find_element(By.CLASS_NAME, 'registerbtn').click()\n",
    "    \n",
    "    # confirmar a pesquisa\n",
    "    alerta = navegador.switch_to.alert\n",
    "    alerta.accept()\n",
    "    \n",
    "    # esperar o resultado da pesquisa e agir de acordo com o resultado\n",
    "    while True:\n",
    "        try:\n",
    "            alerta = navegador.switch_to.alert\n",
    "            break\n",
    "        except:\n",
    "            time.sleep(1)\n",
    "    texto_alerta = alerta.text\n",
    "\n",
    "    if \"Processo encontrado com sucesso\" in texto_alerta:\n",
    "        alerta.accept()\n",
    "        tabela.loc[linha, \"Status\"] = \"Encontrado\"\n",
    "    else:\n",
    "        tabela.loc[linha, \"Status\"] = \"Não encontrado\"\n",
    "        alerta.accept()"
   ]
  },
  {
   "cell_type": "code",
   "execution_count": null,
   "id": "d5c695b6",
   "metadata": {},
   "outputs": [],
   "source": [
    "navegador.quit()\n",
    "display(tabela)\n",
    "\n",
    "tabela.to_excel(\"Processos Atualizado.xlsx\")"
   ]
  }
 ],
 "metadata": {
  "kernelspec": {
   "display_name": "Python 3",
   "language": "python",
   "name": "python3"
  },
  "language_info": {
   "codemirror_mode": {
    "name": "ipython",
    "version": 3
   },
   "file_extension": ".py",
   "mimetype": "text/x-python",
   "name": "python",
   "nbconvert_exporter": "python",
   "pygments_lexer": "ipython3",
   "version": "3.12.3"
  }
 },
 "nbformat": 4,
 "nbformat_minor": 5
}
